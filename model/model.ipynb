{
 "cells": [
  {
   "cell_type": "code",
   "execution_count": 52,
   "metadata": {},
   "outputs": [],
   "source": [
    "import numpy as np\n",
    "import torch\n",
    "import keras\n",
    "from keras import Sequential\n",
    "from keras.models import Model\n",
    "from keras.layers import Dense, Conv2D, MaxPooling2D, Flatten, LSTM, Input, Activation, Dropout, BatchNormalization, Concatenate, RepeatVector\n",
    "from keras.backend import repeat, concatenate\n",
    "from keras.optimizers import Adam\n"
   ]
  },
  {
   "cell_type": "markdown",
   "metadata": {},
   "source": [
    "## 1. Build Generator\n",
    "\n",
    "### Architecture\n",
    " - Input: Music spectrogram\n",
    "     - Pad to fixed size: (150, 50000, 1)\n",
    " - Encoding part\n",
    "     - Conv Layers: Conv * 4\n",
    "     - Dense Layers: Dense * 2\n",
    " - Generating part\n",
    "     - LSTM Layers: LSTM layers * 2\n",
    " "
   ]
  },
  {
   "cell_type": "code",
   "execution_count": 31,
   "metadata": {},
   "outputs": [],
   "source": [
    "max_notes = 200  # ???\n",
    "\n",
    "batch_size = 32\n",
    "input_rows = 150\n",
    "input_cols = 50000\n",
    "input_shape = (input_rows, input_cols, 1)\n",
    "noise_size = 4\n",
    "noise_shape = (max_notes, noise_size)\n",
    "note_size = 4\n",
    "note_shape = (max_notes, note_size)\n",
    "context_size = 64\n",
    "lstm_input_shape = (max_notes, noise_size + context_size)\n",
    "output_size = 4\n",
    "\n",
    "dropout_rate = 0.2"
   ]
  },
  {
   "cell_type": "code",
   "execution_count": 21,
   "metadata": {},
   "outputs": [],
   "source": [
    "def build_generator(max_notes, input_shape, noise_size, note_size, context_size, output_size, dropout_rate):\n",
    "    lstm_input_shape = (max_notes, noise_size + context_size)\n",
    "    \n",
    "    encoderG = Sequential()\n",
    "    \n",
    "    # Conv Layers\n",
    "    encoderG.add(Conv2D(input_shape=input_shape, filters=32, kernel_size=(3, 3), padding=\"same\"))\n",
    "    encoderG.add(Activation('relu'))\n",
    "    encoderG.add(BatchNormalization())\n",
    "    encoderG.add(MaxPooling2D(pool_size=(3, 300), padding=\"valid\"))\n",
    "    encoderG.add(Conv2D(filters=64, kernel_size=(3, 3), padding=\"same\"))\n",
    "    encoderG.add(Activation('relu'))\n",
    "    encoderG.add(BatchNormalization())\n",
    "    encoderG.add(MaxPooling2D(pool_size=(3, 3), padding=\"valid\"))\n",
    "    encoderG.add(Conv2D(filters=128, kernel_size=(3, 3), padding=\"same\"))\n",
    "    encoderG.add(Activation('relu'))\n",
    "    encoderG.add(BatchNormalization())\n",
    "    encoderG.add(MaxPooling2D(pool_size=(3, 3), padding=\"valid\"))\n",
    "    encoderG.add(Conv2D(filters=128, kernel_size=(3, 3), padding=\"same\"))\n",
    "    encoderG.add(Activation('relu'))\n",
    "    encoderG.add(BatchNormalization())\n",
    "    encoderG.add(MaxPooling2D(pool_size=(3, 3), padding=\"valid\"))\n",
    "\n",
    "    encoderG.add(Flatten())\n",
    "    encoderG.add(Dense(context_size))\n",
    "    encoderG.add(Activation('relu'))\n",
    "\n",
    "    #encoderG.summary()\n",
    "    \n",
    "    chartmaker = Sequential()\n",
    "\n",
    "    chartmaker.add(LSTM(input_shape=lstm_input_shape, units=context_size + noise_size, return_sequences=True, return_state=False, stateful=False))\n",
    "    chartmaker.add(Dropout(dropout_rate))\n",
    "    chartmaker.add(LSTM(context_size + noise_size, return_sequences=True, return_state=False, stateful=False))\n",
    "    chartmaker.add(Dropout(dropout_rate))\n",
    "    chartmaker.add(Dense(output_size))\n",
    "\n",
    "    #chartmaker.summary()\n",
    "    \n",
    "    # Generate contextual encoding for the music\n",
    "    music_input = Input(shape=input_shape)\n",
    "    music_context = encoderG(music_input)\n",
    "\n",
    "    noise_input = Input(shape=(max_notes, noise_size))\n",
    "\n",
    "    # Repeat and concatenation. Input to the generator\n",
    "    music_context_repeat = RepeatVector(max_notes)(music_context)\n",
    "    chartmaker_input = Concatenate()([music_context_repeat, noise_input])\n",
    "\n",
    "    output = chartmaker(chartmaker_input)\n",
    "\n",
    "    # Final generator model\n",
    "    generator = Model(inputs=[music_input, noise_input], outputs=output)\n",
    "    generator.summary()\n",
    "    \n",
    "    return generator"
   ]
  },
  {
   "cell_type": "code",
   "execution_count": 22,
   "metadata": {},
   "outputs": [
    {
     "name": "stdout",
     "output_type": "stream",
     "text": [
      "__________________________________________________________________________________________________\n",
      "Layer (type)                    Output Shape         Param #     Connected to                     \n",
      "==================================================================================================\n",
      "input_7 (InputLayer)            (None, 150, 50000, 1 0                                            \n",
      "__________________________________________________________________________________________________\n",
      "sequential_9 (Sequential)       (None, 64)           290880      input_7[0][0]                    \n",
      "__________________________________________________________________________________________________\n",
      "repeat_vector_4 (RepeatVector)  (None, 200, 64)      0           sequential_9[1][0]               \n",
      "__________________________________________________________________________________________________\n",
      "input_8 (InputLayer)            (None, 200, 4)       0                                            \n",
      "__________________________________________________________________________________________________\n",
      "concatenate_4 (Concatenate)     (None, 200, 68)      0           repeat_vector_4[0][0]            \n",
      "                                                                 input_8[0][0]                    \n",
      "__________________________________________________________________________________________________\n",
      "sequential_10 (Sequential)      (None, 200, 4)       74804       concatenate_4[0][0]              \n",
      "==================================================================================================\n",
      "Total params: 365,684\n",
      "Trainable params: 364,980\n",
      "Non-trainable params: 704\n",
      "__________________________________________________________________________________________________\n"
     ]
    }
   ],
   "source": [
    "generator = build_generator(max_notes, input_shape, noise_size, note_size, context_size, output_size, dropout_rate)"
   ]
  },
  {
   "cell_type": "markdown",
   "metadata": {},
   "source": [
    "## 2. Build Discriminator\n",
    "\n",
    "### Architecture"
   ]
  },
  {
   "cell_type": "code",
   "execution_count": 23,
   "metadata": {},
   "outputs": [],
   "source": [
    "def build_discriminator(max_notes, input_shape, noise_size, note_size, context_size, output_size, dropout_rate):\n",
    "    \n",
    "    encoderD = Sequential()\n",
    "    \n",
    "    # Conv Layers\n",
    "    encoderD.add(Conv2D(input_shape=input_shape, filters=32, kernel_size=(3, 3), padding=\"same\"))\n",
    "    encoderD.add(Activation('relu'))\n",
    "    encoderD.add(BatchNormalization())\n",
    "    encoderD.add(MaxPooling2D(pool_size=(3, 300), padding=\"valid\"))\n",
    "    encoderD.add(Conv2D(filters=64, kernel_size=(3, 3), padding=\"same\"))\n",
    "    encoderD.add(Activation('relu'))\n",
    "    encoderD.add(BatchNormalization())\n",
    "    encoderD.add(MaxPooling2D(pool_size=(3, 3), padding=\"valid\"))\n",
    "    encoderD.add(Conv2D(filters=128, kernel_size=(3, 3), padding=\"same\"))\n",
    "    encoderD.add(Activation('relu'))\n",
    "    encoderD.add(BatchNormalization())\n",
    "    encoderD.add(MaxPooling2D(pool_size=(3, 3), padding=\"valid\"))\n",
    "    encoderD.add(Conv2D(filters=128, kernel_size=(3, 3), padding=\"same\"))\n",
    "    encoderD.add(Activation('relu'))\n",
    "    encoderD.add(BatchNormalization())\n",
    "    encoderD.add(MaxPooling2D(pool_size=(3, 3), padding=\"valid\"))\n",
    "\n",
    "    encoderD.add(Flatten())\n",
    "    encoderD.add(Dense(context_size))\n",
    "    encoderD.add(Activation('relu'))\n",
    "    \n",
    "    chartjudger = Sequential()\n",
    "\n",
    "    chartjudger.add(LSTM(input_shape=lstm_input_shape, units=context_size + note_size, return_sequences=True, return_state=False, stateful=False))\n",
    "    chartjudger.add(Dropout(dropout_rate))\n",
    "    chartjudger.add(LSTM(context_size + note_size, return_sequences=True, return_state=False, stateful=False))\n",
    "    chartjudger.add(Dropout(dropout_rate))\n",
    "    chartjudger.add(Dense(1))\n",
    "    chartjudger.add(Activation('sigmoid'))\n",
    "    \n",
    "    music_input = Input(shape=input_shape)\n",
    "    music_context = encoderD(music_input)\n",
    "\n",
    "    chart_input = Input(shape=(max_notes, note_size))\n",
    "\n",
    "    # Repeat and concatenation. Input to the generator\n",
    "    music_context_repeat = RepeatVector(max_notes)(music_context)\n",
    "    chartjudger_input = Concatenate()([music_context_repeat, chart_input])\n",
    "\n",
    "    output = chartjudger(chartjudger_input)\n",
    "\n",
    "    # Final discriminator model\n",
    "    discriminator = Model(inputs=[music_input, chart_input], outputs=output)\n",
    "    discriminator.summary()\n",
    "    \n",
    "    return discriminator"
   ]
  },
  {
   "cell_type": "code",
   "execution_count": 24,
   "metadata": {},
   "outputs": [
    {
     "name": "stdout",
     "output_type": "stream",
     "text": [
      "__________________________________________________________________________________________________\n",
      "Layer (type)                    Output Shape         Param #     Connected to                     \n",
      "==================================================================================================\n",
      "input_9 (InputLayer)            (None, 150, 50000, 1 0                                            \n",
      "__________________________________________________________________________________________________\n",
      "sequential_11 (Sequential)      (None, 64)           290880      input_9[0][0]                    \n",
      "__________________________________________________________________________________________________\n",
      "repeat_vector_5 (RepeatVector)  (None, 200, 64)      0           sequential_11[1][0]              \n",
      "__________________________________________________________________________________________________\n",
      "input_10 (InputLayer)           (None, 200, 4)       0                                            \n",
      "__________________________________________________________________________________________________\n",
      "concatenate_5 (Concatenate)     (None, 200, 68)      0           repeat_vector_5[0][0]            \n",
      "                                                                 input_10[0][0]                   \n",
      "__________________________________________________________________________________________________\n",
      "sequential_12 (Sequential)      (None, 200, 1)       74597       concatenate_5[0][0]              \n",
      "==================================================================================================\n",
      "Total params: 365,477\n",
      "Trainable params: 364,773\n",
      "Non-trainable params: 704\n",
      "__________________________________________________________________________________________________\n"
     ]
    }
   ],
   "source": [
    "discriminator = build_discriminator(max_notes, input_shape, noise_size, note_size, context_size, output_size, dropout_rate)"
   ]
  },
  {
   "cell_type": "markdown",
   "metadata": {},
   "source": [
    "## 3. Combined Model\n"
   ]
  },
  {
   "cell_type": "code",
   "execution_count": 26,
   "metadata": {},
   "outputs": [],
   "source": [
    "optimizer = Adam(lr=0.002)"
   ]
  },
  {
   "cell_type": "code",
   "execution_count": 28,
   "metadata": {},
   "outputs": [
    {
     "name": "stdout",
     "output_type": "stream",
     "text": [
      "__________________________________________________________________________________________________\n",
      "Layer (type)                    Output Shape         Param #     Connected to                     \n",
      "==================================================================================================\n",
      "input_11 (InputLayer)           (None, 150, 50000, 1 0                                            \n",
      "__________________________________________________________________________________________________\n",
      "sequential_13 (Sequential)      (None, 64)           290880      input_11[0][0]                   \n",
      "__________________________________________________________________________________________________\n",
      "repeat_vector_6 (RepeatVector)  (None, 200, 64)      0           sequential_13[1][0]              \n",
      "__________________________________________________________________________________________________\n",
      "input_12 (InputLayer)           (None, 200, 4)       0                                            \n",
      "__________________________________________________________________________________________________\n",
      "concatenate_6 (Concatenate)     (None, 200, 68)      0           repeat_vector_6[0][0]            \n",
      "                                                                 input_12[0][0]                   \n",
      "__________________________________________________________________________________________________\n",
      "sequential_14 (Sequential)      (None, 200, 1)       74597       concatenate_6[0][0]              \n",
      "==================================================================================================\n",
      "Total params: 365,477\n",
      "Trainable params: 364,773\n",
      "Non-trainable params: 704\n",
      "__________________________________________________________________________________________________\n"
     ]
    }
   ],
   "source": [
    "# Build and compile the discrimninator\n",
    "discriminator = build_discriminator(max_notes, input_shape, noise_size, note_size, context_size, output_size, dropout_rate)\n",
    "discriminator.compile(loss=['binary_crossentropy'], optimizer=optimizer, metrics=['accuracy'])\n"
   ]
  },
  {
   "cell_type": "code",
   "execution_count": 48,
   "metadata": {},
   "outputs": [
    {
     "name": "stdout",
     "output_type": "stream",
     "text": [
      "__________________________________________________________________________________________________\n",
      "Layer (type)                    Output Shape         Param #     Connected to                     \n",
      "==================================================================================================\n",
      "input_25 (InputLayer)           (None, 150, 50000, 1 0                                            \n",
      "__________________________________________________________________________________________________\n",
      "sequential_17 (Sequential)      (None, 64)           290880      input_25[0][0]                   \n",
      "__________________________________________________________________________________________________\n",
      "repeat_vector_8 (RepeatVector)  (None, 200, 64)      0           sequential_17[1][0]              \n",
      "__________________________________________________________________________________________________\n",
      "input_26 (InputLayer)           (None, 200, 4)       0                                            \n",
      "__________________________________________________________________________________________________\n",
      "concatenate_8 (Concatenate)     (None, 200, 68)      0           repeat_vector_8[0][0]            \n",
      "                                                                 input_26[0][0]                   \n",
      "__________________________________________________________________________________________________\n",
      "sequential_18 (Sequential)      (None, 200, 4)       74804       concatenate_8[0][0]              \n",
      "==================================================================================================\n",
      "Total params: 365,684\n",
      "Trainable params: 364,980\n",
      "Non-trainable params: 704\n",
      "__________________________________________________________________________________________________\n"
     ]
    }
   ],
   "source": [
    "# Build the generator\n",
    "generator = build_generator(max_notes, input_shape, noise_size, note_size, context_size, output_size, dropout_rate)\n",
    "\n"
   ]
  },
  {
   "cell_type": "code",
   "execution_count": 36,
   "metadata": {},
   "outputs": [],
   "source": [
    "# The generator takes music STFT and random noise as input, and generates the corresponding chart\n",
    "music_input = Input(shape=input_shape)\n",
    "noise_input = Input(shape=noise_shape)\n",
    "chart = generator([music_input, noise_input])"
   ]
  },
  {
   "cell_type": "code",
   "execution_count": 38,
   "metadata": {},
   "outputs": [],
   "source": [
    "# For the combined model we will only train the generator\n",
    "discriminator.trainable = False\n"
   ]
  },
  {
   "cell_type": "code",
   "execution_count": 39,
   "metadata": {},
   "outputs": [],
   "source": [
    "# The discriminator takes music STFT and the generated chart and determines validity\n",
    "valid = discriminator([music_input, chart])\n"
   ]
  },
  {
   "cell_type": "code",
   "execution_count": 40,
   "metadata": {},
   "outputs": [],
   "source": [
    "# The combined model\n",
    "combined = Model([music_input, noise_input], valid)\n",
    "combined.compile(loss=['binary_crossentropy'], optimizer=optimizer)"
   ]
  },
  {
   "cell_type": "markdown",
   "metadata": {},
   "source": [
    "## 4. Training"
   ]
  },
  {
   "cell_type": "code",
   "execution_count": 46,
   "metadata": {},
   "outputs": [],
   "source": [
    "num_epochs = 500\n",
    "\n",
    "# Number of iterations of training on Discriminator vs. number of iterations of training on Generator\n",
    "num_trainD = 7\n",
    "num_trainG = 3"
   ]
  },
  {
   "cell_type": "code",
   "execution_count": 54,
   "metadata": {},
   "outputs": [],
   "source": [
    "# Generate data in each iteration to train the discriminator and generator\n",
    "def generate_training_data(discriminator, generator):\n",
    "    # Generate a batch of new music data and corresponding charts. \n",
    "    #   music data shape (batch_size, input_rows, input_cols), chart shape (batch_size, max_notes, note_size)\n",
    "    music, chart_correct = None, None\n",
    "    # Generate a batch of mis-matching charts\n",
    "    chart_mismatch = None\n",
    "    # Generate a batch of random noise from latent space. Noise shape (batch_size, max_notes, noise_size)\n",
    "    noise = None\n",
    "    # Forward the music data and noise through Generator and generate fake charts\n",
    "    chart_fake = generator.predict([music, noise])\n",
    "    \n",
    "    return music, noise, chart_correct, chart_mismatch, chart_fake"
   ]
  },
  {
   "cell_type": "code",
   "execution_count": 55,
   "metadata": {},
   "outputs": [
    {
     "ename": "AttributeError",
     "evalue": "'NoneType' object has no attribute 'shape'",
     "output_type": "error",
     "traceback": [
      "\u001b[0;31m---------------------------------------------------------------------------\u001b[0m",
      "\u001b[0;31mAttributeError\u001b[0m                            Traceback (most recent call last)",
      "\u001b[0;32m<ipython-input-55-8e9010bfd00c>\u001b[0m in \u001b[0;36m<module>\u001b[0;34m()\u001b[0m\n\u001b[1;32m      8\u001b[0m     \u001b[0;32mfor\u001b[0m \u001b[0mi_trainD\u001b[0m \u001b[0;32min\u001b[0m \u001b[0mrange\u001b[0m\u001b[0;34m(\u001b[0m\u001b[0mnum_trainD\u001b[0m\u001b[0;34m)\u001b[0m\u001b[0;34m:\u001b[0m\u001b[0;34m\u001b[0m\u001b[0;34m\u001b[0m\u001b[0m\n\u001b[1;32m      9\u001b[0m         \u001b[0;31m# generate batch training data\u001b[0m\u001b[0;34m\u001b[0m\u001b[0;34m\u001b[0m\u001b[0;34m\u001b[0m\u001b[0m\n\u001b[0;32m---> 10\u001b[0;31m         \u001b[0mmusic\u001b[0m\u001b[0;34m,\u001b[0m \u001b[0mnoise\u001b[0m\u001b[0;34m,\u001b[0m \u001b[0mchart_correct\u001b[0m\u001b[0;34m,\u001b[0m \u001b[0mchart_mismatch\u001b[0m\u001b[0;34m,\u001b[0m \u001b[0mchart_fake\u001b[0m \u001b[0;34m=\u001b[0m \u001b[0mgenerate_training_data\u001b[0m\u001b[0;34m(\u001b[0m\u001b[0mdiscriminator\u001b[0m\u001b[0;34m,\u001b[0m \u001b[0mgenerator\u001b[0m\u001b[0;34m)\u001b[0m\u001b[0;34m\u001b[0m\u001b[0;34m\u001b[0m\u001b[0m\n\u001b[0m\u001b[1;32m     11\u001b[0m \u001b[0;34m\u001b[0m\u001b[0m\n\u001b[1;32m     12\u001b[0m         \u001b[0;31m# Loss value on matching charts\u001b[0m\u001b[0;34m\u001b[0m\u001b[0;34m\u001b[0m\u001b[0;34m\u001b[0m\u001b[0m\n",
      "\u001b[0;32m<ipython-input-54-d16a5c910eba>\u001b[0m in \u001b[0;36mgenerate_training_data\u001b[0;34m(discriminator, generator)\u001b[0m\n\u001b[1;32m      9\u001b[0m     \u001b[0mnoise\u001b[0m \u001b[0;34m=\u001b[0m \u001b[0;32mNone\u001b[0m\u001b[0;34m\u001b[0m\u001b[0;34m\u001b[0m\u001b[0m\n\u001b[1;32m     10\u001b[0m     \u001b[0;31m# Forward the music data and noise through Generator and generate fake charts\u001b[0m\u001b[0;34m\u001b[0m\u001b[0;34m\u001b[0m\u001b[0;34m\u001b[0m\u001b[0m\n\u001b[0;32m---> 11\u001b[0;31m     \u001b[0mchart_fake\u001b[0m \u001b[0;34m=\u001b[0m \u001b[0mgenerator\u001b[0m\u001b[0;34m.\u001b[0m\u001b[0mpredict\u001b[0m\u001b[0;34m(\u001b[0m\u001b[0;34m[\u001b[0m\u001b[0mmusic\u001b[0m\u001b[0;34m,\u001b[0m \u001b[0mnoise\u001b[0m\u001b[0;34m]\u001b[0m\u001b[0;34m)\u001b[0m\u001b[0;34m\u001b[0m\u001b[0;34m\u001b[0m\u001b[0m\n\u001b[0m\u001b[1;32m     12\u001b[0m \u001b[0;34m\u001b[0m\u001b[0m\n\u001b[1;32m     13\u001b[0m     \u001b[0;32mreturn\u001b[0m \u001b[0mmusic\u001b[0m\u001b[0;34m,\u001b[0m \u001b[0mnoise\u001b[0m\u001b[0;34m,\u001b[0m \u001b[0mchart_correct\u001b[0m\u001b[0;34m,\u001b[0m \u001b[0mchart_mismatch\u001b[0m\u001b[0;34m,\u001b[0m \u001b[0mchart_fake\u001b[0m\u001b[0;34m\u001b[0m\u001b[0;34m\u001b[0m\u001b[0m\n",
      "\u001b[0;32m/Users/townes/anaconda/lib/python3.6/site-packages/keras/engine/training.py\u001b[0m in \u001b[0;36mpredict\u001b[0;34m(self, x, batch_size, verbose, steps)\u001b[0m\n\u001b[1;32m   1780\u001b[0m         x = _standardize_input_data(x, self._feed_input_names,\n\u001b[1;32m   1781\u001b[0m                                     \u001b[0mself\u001b[0m\u001b[0;34m.\u001b[0m\u001b[0m_feed_input_shapes\u001b[0m\u001b[0;34m,\u001b[0m\u001b[0;34m\u001b[0m\u001b[0;34m\u001b[0m\u001b[0m\n\u001b[0;32m-> 1782\u001b[0;31m                                     check_batch_axis=False)\n\u001b[0m\u001b[1;32m   1783\u001b[0m         \u001b[0;32mif\u001b[0m \u001b[0mself\u001b[0m\u001b[0;34m.\u001b[0m\u001b[0mstateful\u001b[0m\u001b[0;34m:\u001b[0m\u001b[0;34m\u001b[0m\u001b[0;34m\u001b[0m\u001b[0m\n\u001b[1;32m   1784\u001b[0m             \u001b[0;32mif\u001b[0m \u001b[0mx\u001b[0m\u001b[0;34m[\u001b[0m\u001b[0;36m0\u001b[0m\u001b[0;34m]\u001b[0m\u001b[0;34m.\u001b[0m\u001b[0mshape\u001b[0m\u001b[0;34m[\u001b[0m\u001b[0;36m0\u001b[0m\u001b[0;34m]\u001b[0m \u001b[0;34m>\u001b[0m \u001b[0mbatch_size\u001b[0m \u001b[0;32mand\u001b[0m \u001b[0mx\u001b[0m\u001b[0;34m[\u001b[0m\u001b[0;36m0\u001b[0m\u001b[0;34m]\u001b[0m\u001b[0;34m.\u001b[0m\u001b[0mshape\u001b[0m\u001b[0;34m[\u001b[0m\u001b[0;36m0\u001b[0m\u001b[0;34m]\u001b[0m \u001b[0;34m%\u001b[0m \u001b[0mbatch_size\u001b[0m \u001b[0;34m!=\u001b[0m \u001b[0;36m0\u001b[0m\u001b[0;34m:\u001b[0m\u001b[0;34m\u001b[0m\u001b[0;34m\u001b[0m\u001b[0m\n",
      "\u001b[0;32m/Users/townes/anaconda/lib/python3.6/site-packages/keras/engine/training.py\u001b[0m in \u001b[0;36m_standardize_input_data\u001b[0;34m(data, names, shapes, check_batch_axis, exception_prefix)\u001b[0m\n\u001b[1;32m    101\u001b[0m         \u001b[0;32mfor\u001b[0m \u001b[0mi\u001b[0m \u001b[0;32min\u001b[0m \u001b[0mrange\u001b[0m\u001b[0;34m(\u001b[0m\u001b[0mlen\u001b[0m\u001b[0;34m(\u001b[0m\u001b[0mnames\u001b[0m\u001b[0;34m)\u001b[0m\u001b[0;34m)\u001b[0m\u001b[0;34m:\u001b[0m\u001b[0;34m\u001b[0m\u001b[0;34m\u001b[0m\u001b[0m\n\u001b[1;32m    102\u001b[0m             \u001b[0;32mif\u001b[0m \u001b[0mshapes\u001b[0m\u001b[0;34m[\u001b[0m\u001b[0mi\u001b[0m\u001b[0;34m]\u001b[0m \u001b[0;32mis\u001b[0m \u001b[0;32mnot\u001b[0m \u001b[0;32mNone\u001b[0m\u001b[0;34m:\u001b[0m\u001b[0;34m\u001b[0m\u001b[0;34m\u001b[0m\u001b[0m\n\u001b[0;32m--> 103\u001b[0;31m                 \u001b[0mdata_shape\u001b[0m \u001b[0;34m=\u001b[0m \u001b[0mdata\u001b[0m\u001b[0;34m[\u001b[0m\u001b[0mi\u001b[0m\u001b[0;34m]\u001b[0m\u001b[0;34m.\u001b[0m\u001b[0mshape\u001b[0m\u001b[0;34m\u001b[0m\u001b[0;34m\u001b[0m\u001b[0m\n\u001b[0m\u001b[1;32m    104\u001b[0m                 \u001b[0mshape\u001b[0m \u001b[0;34m=\u001b[0m \u001b[0mshapes\u001b[0m\u001b[0;34m[\u001b[0m\u001b[0mi\u001b[0m\u001b[0;34m]\u001b[0m\u001b[0;34m\u001b[0m\u001b[0;34m\u001b[0m\u001b[0m\n\u001b[1;32m    105\u001b[0m                 \u001b[0;32mif\u001b[0m \u001b[0mdata\u001b[0m\u001b[0;34m[\u001b[0m\u001b[0mi\u001b[0m\u001b[0;34m]\u001b[0m\u001b[0;34m.\u001b[0m\u001b[0mndim\u001b[0m \u001b[0;34m!=\u001b[0m \u001b[0mlen\u001b[0m\u001b[0;34m(\u001b[0m\u001b[0mshape\u001b[0m\u001b[0;34m)\u001b[0m\u001b[0;34m:\u001b[0m\u001b[0;34m\u001b[0m\u001b[0;34m\u001b[0m\u001b[0m\n",
      "\u001b[0;31mAttributeError\u001b[0m: 'NoneType' object has no attribute 'shape'"
     ]
    }
   ],
   "source": [
    "for epoch in range(num_epochs):\n",
    "    # labels for valid music chart. shape (batch_size, max_notes, 1)\n",
    "    valid_label = np.ones((batch_size, max_notes, 1))\n",
    "    # labels for fake music chart. shape (batch_size, max_notes, 1)\n",
    "    fake_label = np.zeros((batch_size, max_notes, 1))\n",
    "    \n",
    "    # Train Discriminator\n",
    "    for i_trainD in range(num_trainD):\n",
    "        # generate batch training data\n",
    "        music, noise, chart_correct, chart_mismatch, chart_fake = generate_training_data(discriminator, generator)\n",
    "        \n",
    "        # Loss value on matching charts\n",
    "        d_loss_real = discriminator.train_on_batch([music, chart_correct], valid_label)\n",
    "        # Loss value on mis-matching charts\n",
    "        d_loss_mismatch = discriminator.train_on_batch([music, chart_mismatch], fake_label)\n",
    "        # Loss value on fake charts\n",
    "        d_loss_fake = discriminator.train_on_batch([music, chart_fake], fake_label)\n",
    "        \n",
    "        # Final loss\n",
    "        d_loss = np.add(d_loss_real, np.add(d_loss_mismatch, d_loss_fake) / 2)\n",
    "        \n",
    "    # Train Generator\n",
    "    for i_trainG in range(num_trainG):\n",
    "        g_loss = combined.train_on_batch([music, noise], valid_label)\n",
    "        \n",
    "    # Plot progress\n",
    "    print (\"%d [D loss: %f, acc.: %.2f%%] [G loss: %f]\" % (epoch + 1, d_loss[0], 100*d_loss[1], g_loss))"
   ]
  },
  {
   "cell_type": "code",
   "execution_count": null,
   "metadata": {},
   "outputs": [],
   "source": []
  }
 ],
 "metadata": {
  "kernelspec": {
   "display_name": "Python 3",
   "language": "python",
   "name": "python3"
  },
  "language_info": {
   "codemirror_mode": {
    "name": "ipython",
    "version": 3
   },
   "file_extension": ".py",
   "mimetype": "text/x-python",
   "name": "python",
   "nbconvert_exporter": "python",
   "pygments_lexer": "ipython3",
   "version": "3.6.5"
  }
 },
 "nbformat": 4,
 "nbformat_minor": 2
}
